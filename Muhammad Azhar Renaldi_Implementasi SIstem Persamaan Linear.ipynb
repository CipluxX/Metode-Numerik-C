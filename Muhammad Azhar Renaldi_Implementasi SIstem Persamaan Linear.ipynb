{
  "nbformat": 4,
  "nbformat_minor": 0,
  "metadata": {
    "colab": {
      "provenance": [],
      "authorship_tag": "ABX9TyOXNKrGarfZknPdxJx+6fHK",
      "include_colab_link": true
    },
    "kernelspec": {
      "name": "python3",
      "display_name": "Python 3"
    },
    "language_info": {
      "name": "python"
    }
  },
  "cells": [
    {
      "cell_type": "markdown",
      "metadata": {
        "id": "view-in-github",
        "colab_type": "text"
      },
      "source": [
        "<a href=\"https://colab.research.google.com/github/CipluxX/Metode-Numerik-C/blob/main/Muhammad%20Azhar%20Renaldi_Implementasi%20SIstem%20Persamaan%20Linear.ipynb\" target=\"_parent\"><img src=\"https://colab.research.google.com/assets/colab-badge.svg\" alt=\"Open In Colab\"/></a>"
      ]
    },
    {
      "cell_type": "markdown",
      "source": [
        "Metode Matriks Balikan"
      ],
      "metadata": {
        "id": "sAG-C5bwjkYu"
      }
    },
    {
      "cell_type": "code",
      "source": [
        "import numpy as np\n",
        "\n",
        "# Matriks koefisien\n",
        "A = np.array([[2, 1, -1], [4, 1, 0], [0, -2, 1]])\n",
        "\n",
        "# Vektor hasil\n",
        "b = np.array([3, 4, -1])\n",
        "\n",
        "# Matriks balikan\n",
        "A_inv = np.linalg.inv(A)\n",
        "\n",
        "# Solusi\n",
        "x = np.dot(A_inv, b)\n",
        "\n",
        "print(\"Metode Matriks Balikan:\")\n",
        "print(\"Solusi x:\", x)"
      ],
      "metadata": {
        "colab": {
          "base_uri": "https://localhost:8080/"
        },
        "id": "0hpxhhuNjvEw",
        "outputId": "a983c5eb-e77f-4325-832d-3b6e04a5adf0"
      },
      "execution_count": 2,
      "outputs": [
        {
          "output_type": "stream",
          "name": "stdout",
          "text": [
            "Metode Matriks Balikan:\n",
            "Solusi x: [ 1.  0. -1.]\n"
          ]
        }
      ]
    },
    {
      "cell_type": "markdown",
      "source": [
        "Metode Dekomposisi LU Gauss"
      ],
      "metadata": {
        "id": "eSXyRnSUj8tc"
      }
    },
    {
      "cell_type": "code",
      "source": [
        "import numpy as np\n",
        "from scipy.linalg import lu_solve, lu_factor\n",
        "\n",
        "# Matriks koefisien\n",
        "A = np.array([[2, 1, -1], [4, 1, 0], [0, -2, 1]])\n",
        "\n",
        "# Vektor hasil\n",
        "b = np.array([3, 4, -1])\n",
        "\n",
        "# Dekomposisi LU\n",
        "LU, piv = lu_factor(A)\n",
        "x = lu_solve((LU, piv), b)\n",
        "\n",
        "print(\"Metode Dekomposisi LU Gauss:\")\n",
        "print(\"Solusi x:\", x)"
      ],
      "metadata": {
        "colab": {
          "base_uri": "https://localhost:8080/"
        },
        "id": "6Tzz4mJkkCy0",
        "outputId": "e448f1ee-dc19-4ac5-b35e-1bcb53a6dd00"
      },
      "execution_count": 3,
      "outputs": [
        {
          "output_type": "stream",
          "name": "stdout",
          "text": [
            "Metode Dekomposisi LU Gauss:\n",
            "Solusi x: [ 1. -0. -1.]\n"
          ]
        }
      ]
    },
    {
      "cell_type": "markdown",
      "source": [
        "Metode Dekomposisi Crout"
      ],
      "metadata": {
        "id": "cCSun9gskQ0W"
      }
    },
    {
      "cell_type": "code",
      "source": [
        "import numpy as np\n",
        "from scipy.linalg import cholesky, solve_triangular\n",
        "\n",
        "# Matriks koefisien\n",
        "A = np.array([[2, 1, -1], [4, 1, 0], [0, -2, 1]])\n",
        "\n",
        "# Vektor hasil\n",
        "b = np.array([3, 4, -1])\n",
        "\n",
        "# Dekomposisi Cholesky\n",
        "L = cholesky(A)\n",
        "y = solve_triangular(L, b, lower=True)\n",
        "x = solve_triangular(L.T, y)\n",
        "\n",
        "print(\"Metode Dekomposisi Cholesky:\")\n",
        "print(\"Solusi x:\", x)\n"
      ],
      "metadata": {
        "colab": {
          "base_uri": "https://localhost:8080/"
        },
        "id": "_Ur81tnZkc20",
        "outputId": "157e824e-e886-44c3-a053-4e383d2c5a08"
      },
      "execution_count": 4,
      "outputs": [
        {
          "output_type": "stream",
          "name": "stdout",
          "text": [
            "Metode Dekomposisi Cholesky:\n",
            "Solusi x: [ 1.50000000e+00  8.00000000e+00 -3.00239975e+15]\n"
          ]
        }
      ]
    }
  ]
}